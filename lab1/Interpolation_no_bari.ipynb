{
 "cells": [
  {
   "cell_type": "markdown",
   "metadata": {},
   "source": [
    "# Interpolation Schemes"
   ]
  },
  {
   "cell_type": "markdown",
   "metadata": {},
   "source": [
    "## Linear interpolation\n",
    "\n",
    "Interpolate (r,g,b) colors within an interval $[x_1,x_2]$ assuming the color in $x_1$ is red and in $x_2$ is blue."
   ]
  },
  {
   "cell_type": "code",
   "execution_count": 3,
   "metadata": {},
   "outputs": [],
   "source": [
    "from PIL import Image\n",
    "import numpy as np\n",
    "import matplotlib.pyplot as plt\n",
    "\n",
    "\n",
    "def linear_interp(n,x,f):\n",
    "    # n is the number of discretization points\n",
    "    # [x[0],x[1]] defines the interval extremes\n",
    "    # f[0] nad f[1] are the (r,g,b) colors in x[0] and x[1]\n",
    "    \n",
    "    t = np.linspace(x[0],x[1],n)\n",
    "    \n",
    "    r = [f[0]*(t[i]-x[0])/(x[1]-x[0])+f[1]*(x[1]-t[i])/(x[1]-x[0]) for i in range(n)]\n",
    "    return(np.asarray(r,dtype=float))\n",
    "\n",
    "n = 100 # discretization size\n",
    "\n",
    "x = np.asarray([0,1],dtype=float)\n",
    "f = np.asarray([[1,0,0],[0,0,1]],dtype=float)\n",
    "f_linear = linear_interp(n,x,f)\n",
    "\n",
    "# generating a 2D image where the rows are copies of f_linear\n",
    "f2d_linear = np.zeros((n,n,3))\n",
    "f2d_linear[:] = f_linear*255\n",
    "\n",
    "a_linear = Image.fromarray(f2d_linear.astype('uint8'), 'RGB')\n",
    "a_linear.show()"
   ]
  },
  {
   "cell_type": "markdown",
   "metadata": {},
   "source": [
    "----\n",
    "## Bilinear interpolation\n",
    "\n",
    "Interpolate (r,g,b) colors within an square with corners $[x_1,y_1],[x_2,y_1],[x_1,y_2],[x_2,y_2]$ assuming the colors in corners \n",
    "$$\n",
    "\\begin{eqnarray}\n",
    "f([x_1,y_1])=(0,0,0)\\\\\n",
    "f([x_2,y_1])=(1,0,0)\\\\\n",
    "f([x_1,y_2])=(0,0,1)\\\\\n",
    "f([x_2,y_2])=(1,1,0)\n",
    "\\end{eqnarray}\n",
    "$$"
   ]
  },
  {
   "cell_type": "code",
   "execution_count": 6,
   "metadata": {},
   "outputs": [],
   "source": [
    "# Solution 1 \n",
    "# Using the linear_interp()\n",
    "\n",
    "# defining the corners\n",
    "x = np.asarray([0,1],dtype=float)\n",
    "y = np.asarray([0,1],dtype=float)\n",
    "f = np.asarray([[0,0,0],[1,0,0],[0,0,1],[1,1,0]],dtype=float)\n",
    "\n",
    "l_bottom = linear_interp(n,x,f[0:2])\n",
    "l_top = linear_interp(n,x,f[2:])\n",
    "\n",
    "f_bilinear = np.zeros((n,n,3))\n",
    "for i in range(n):\n",
    "    f_bilinear[:,i]=linear_interp(n,y,[l_bottom[i],l_top[i]])*255\n",
    "    \n",
    "a_bilinear = Image.fromarray(f_bilinear.astype('uint8'), 'RGB')\n",
    "a_bilinear.show()"
   ]
  },
  {
   "cell_type": "code",
   "execution_count": 7,
   "metadata": {},
   "outputs": [],
   "source": [
    "# Solution 2 \n",
    "# Using the bilinear_formula()\n",
    "\n",
    "def bilinear_interp(n,m,x,y,f):\n",
    "    tx = np.linspace(x[0],x[1],n)\n",
    "    ty = np.linspace(y[0],y[1],m)\n",
    "    \n",
    "    F = np.asarray([[f[0],f[2]],[f[1],f[3]]])\n",
    "    def bilinear_formula(i,j):\n",
    "        ratio = 1.0/((x[1]-x[0])*(y[1]-y[0]))\n",
    "        xa = np.asarray([x[1]-tx[i],tx[i]-x[0]])\n",
    "        ya = np.asarray([y[1]-ty[j],ty[j]-y[0]])\n",
    "        mij = np.asarray([ratio*np.dot(xa,np.dot(F[:,:,k],ya)) for k in range(3)])\n",
    "        return(mij)\n",
    "    \n",
    "    M = [bilinear_formula(i,j) for i in range(n) for j in range(m)]\n",
    "    return(np.asarray(M).reshape(n,m,3))\n",
    "    \n",
    "\n",
    "# defining the corners\n",
    "x = np.asarray([0,1],dtype=float)\n",
    "y = np.asarray([0,1],dtype=float)\n",
    "f = np.asarray([[0,0,0],[1,0,0],[0,0,1],[1,1,0]],dtype=float)\n",
    "\n",
    "f2_bilinear = bilinear_interp(n,n,x,y,f)*255\n",
    "a2_bilinear = Image.fromarray(f2_bilinear.astype('uint8'), 'RGB')\n",
    "a2_bilinear.show()"
   ]
  },
  {
   "cell_type": "markdown",
   "metadata": {},
   "source": [
    "### Why are the colors rotated in the two previous solutions?"
   ]
  },
  {
   "cell_type": "markdown",
   "metadata": {},
   "source": [
    "----\n",
    "## Baricentric coordinates"
   ]
  },
  {
   "cell_type": "markdown",
   "metadata": {},
   "source": [
    "Suppose the square in the previous exercise is split in two triangles $[x_1,y_1],[x_2,y_1],[x_2,y_2]$ and $[x_2,y_2],[x_1,y_2],[x_1,y_1]$. Compute the baricentric interpolation within each triangle and generate an image."
   ]
  },
  {
   "cell_type": "code",
   "execution_count": null,
   "metadata": {},
   "outputs": [],
   "source": [
    "# solution will be posted over the weekend (2/3-4) - Kabir"
   ]
  }
 ],
 "metadata": {
  "kernelspec": {
   "display_name": "Python 3",
   "language": "python",
   "name": "python3"
  },
  "language_info": {
   "codemirror_mode": {
    "name": "ipython",
    "version": 3
   },
   "file_extension": ".py",
   "mimetype": "text/x-python",
   "name": "python",
   "nbconvert_exporter": "python",
   "pygments_lexer": "ipython3",
   "version": "3.5.4"
  }
 },
 "nbformat": 4,
 "nbformat_minor": 2
}
