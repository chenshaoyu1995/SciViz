{
 "cells": [
  {
   "cell_type": "markdown",
   "metadata": {},
   "source": [
    "# Interpolation Schemes"
   ]
  },
  {
   "cell_type": "markdown",
   "metadata": {},
   "source": [
    "## Linear interpolation\n",
    "\n",
    "Interpolate (r,g,b) colors within an interval $[x_1,x_2]$ assuming the color in $x_1$ is red and in $x_2$ is blue."
   ]
  },
  {
   "cell_type": "code",
   "execution_count": 12,
   "metadata": {},
   "outputs": [
    {
     "name": "stdout",
     "output_type": "stream",
     "text": [
      "(100,)\n",
      "(3, 1)\n",
      "(3, 100)\n"
     ]
    },
    {
     "ename": "ValueError",
     "evalue": "could not broadcast input array from shape (3,100) into shape (100,100,3)",
     "output_type": "error",
     "traceback": [
      "\u001b[1;31m---------------------------------------------------------------------------\u001b[0m",
      "\u001b[1;31mValueError\u001b[0m                                Traceback (most recent call last)",
      "\u001b[1;32m<ipython-input-12-cea327e9e2f0>\u001b[0m in \u001b[0;36m<module>\u001b[1;34m()\u001b[0m\n\u001b[0;32m     27\u001b[0m \u001b[1;31m# generating a 2D image where the rows are copies of f_linear\u001b[0m\u001b[1;33m\u001b[0m\u001b[1;33m\u001b[0m\u001b[0m\n\u001b[0;32m     28\u001b[0m \u001b[0mf2d_linear\u001b[0m \u001b[1;33m=\u001b[0m \u001b[0mnp\u001b[0m\u001b[1;33m.\u001b[0m\u001b[0mzeros\u001b[0m\u001b[1;33m(\u001b[0m\u001b[1;33m(\u001b[0m\u001b[0mn\u001b[0m\u001b[1;33m,\u001b[0m\u001b[0mn\u001b[0m\u001b[1;33m,\u001b[0m\u001b[1;36m3\u001b[0m\u001b[1;33m)\u001b[0m\u001b[1;33m)\u001b[0m\u001b[1;33m\u001b[0m\u001b[0m\n\u001b[1;32m---> 29\u001b[1;33m \u001b[0mf2d_linear\u001b[0m\u001b[1;33m[\u001b[0m\u001b[1;33m:\u001b[0m\u001b[1;33m]\u001b[0m \u001b[1;33m=\u001b[0m \u001b[0mf_linear\u001b[0m\u001b[1;33m*\u001b[0m\u001b[1;36m255\u001b[0m\u001b[1;33m\u001b[0m\u001b[0m\n\u001b[0m\u001b[0;32m     30\u001b[0m \u001b[1;33m\u001b[0m\u001b[0m\n\u001b[0;32m     31\u001b[0m \u001b[0ma_linear\u001b[0m \u001b[1;33m=\u001b[0m \u001b[0mImage\u001b[0m\u001b[1;33m.\u001b[0m\u001b[0mfromarray\u001b[0m\u001b[1;33m(\u001b[0m\u001b[0mf2d_linear\u001b[0m\u001b[1;33m.\u001b[0m\u001b[0mastype\u001b[0m\u001b[1;33m(\u001b[0m\u001b[1;34m'uint8'\u001b[0m\u001b[1;33m)\u001b[0m\u001b[1;33m,\u001b[0m \u001b[1;34m'RGB'\u001b[0m\u001b[1;33m)\u001b[0m\u001b[1;33m\u001b[0m\u001b[0m\n",
      "\u001b[1;31mValueError\u001b[0m: could not broadcast input array from shape (3,100) into shape (100,100,3)"
     ]
    }
   ],
   "source": [
    "from PIL import Image\n",
    "import numpy as np\n",
    "import matplotlib.pyplot as plt\n",
    "\n",
    "\n",
    "def linear_interp(n,x,f):\n",
    "    # n is the number of discretization points\n",
    "    # [x[0],x[1]] defines the interval extremes\n",
    "    # f[0] nad f[1] are the (r,g,b) colors in x[0] and x[1]\n",
    "    \n",
    "    t = np.linspace(x[0],x[1],n)\n",
    "    cof0 = np.linspace(0,1,n)\n",
    "    cof1 = np.linspace(1,0,n)\n",
    "    print(cof0.shape)\n",
    "    print(f[0][:,np.newaxis].shape)\n",
    "    # r = ? (implement this bit)\n",
    "    r = f[0][:,np.newaxis].dot(cof1[np.newaxis,:])+f[1][:,np.newaxis].dot(cof0[np.newaxis,:])\n",
    "    r = r.T\n",
    "    return(np.asarray(r,dtype=float))\n",
    "\n",
    "n = 100 # discretization size\n",
    "\n",
    "x = np.asarray([0,1],dtype=float)\n",
    "f = np.asarray([[1,0,0],[0,0,1]],dtype=float)\n",
    "f_linear = linear_interp(n,x,f)\n",
    "\n",
    "# generating a 2D image where the rows are copies of f_linear\n",
    "f2d_linear = np.zeros((n,n,3))\n",
    "f2d_linear[:] = f_linear*255\n",
    "\n",
    "a_linear = Image.fromarray(f2d_linear.astype('uint8'), 'RGB')\n",
    "a_linear.show()"
   ]
  },
  {
   "cell_type": "markdown",
   "metadata": {},
   "source": [
    "----\n",
    "## Bilinear interpolation\n",
    "\n",
    "Interpolate (r,g,b) colors within an square with corners $[x_1,y_1],[x_2,y_1],[x_1,y_2],[x_2,y_2]$ assuming the colors in corners \n",
    "$$\n",
    "\\begin{eqnarray}\n",
    "f([x_1,y_1])=(0,0,0)\\\\\n",
    "f([x_2,y_1])=(1,0,0)\\\\\n",
    "f([x_1,y_2])=(0,0,1)\\\\\n",
    "f([x_2,y_2])=(1,1,0)\n",
    "\\end{eqnarray}\n",
    "$$"
   ]
  },
  {
   "cell_type": "code",
   "execution_count": 4,
   "metadata": {},
   "outputs": [
    {
     "ename": "NameError",
     "evalue": "name 'f_bilinear' is not defined",
     "output_type": "error",
     "traceback": [
      "\u001b[0;31m---------------------------------------------------------------------------\u001b[0m",
      "\u001b[0;31mNameError\u001b[0m                                 Traceback (most recent call last)",
      "\u001b[0;32m<ipython-input-4-345bf29326af>\u001b[0m in \u001b[0;36m<module>\u001b[0;34m()\u001b[0m\n\u001b[1;32m      9\u001b[0m \u001b[0;31m# Use the linear_interp() function here to implement a bilinear interpolation\u001b[0m\u001b[0;34m\u001b[0m\u001b[0;34m\u001b[0m\u001b[0m\n\u001b[1;32m     10\u001b[0m \u001b[0;34m\u001b[0m\u001b[0m\n\u001b[0;32m---> 11\u001b[0;31m \u001b[0ma_bilinear\u001b[0m \u001b[0;34m=\u001b[0m \u001b[0mImage\u001b[0m\u001b[0;34m.\u001b[0m\u001b[0mfromarray\u001b[0m\u001b[0;34m(\u001b[0m\u001b[0mf_bilinear\u001b[0m\u001b[0;34m.\u001b[0m\u001b[0mastype\u001b[0m\u001b[0;34m(\u001b[0m\u001b[0;34m'uint8'\u001b[0m\u001b[0;34m)\u001b[0m\u001b[0;34m,\u001b[0m \u001b[0;34m'RGB'\u001b[0m\u001b[0;34m)\u001b[0m\u001b[0;34m\u001b[0m\u001b[0m\n\u001b[0m\u001b[1;32m     12\u001b[0m \u001b[0ma_bilinear\u001b[0m\u001b[0;34m.\u001b[0m\u001b[0mshow\u001b[0m\u001b[0;34m(\u001b[0m\u001b[0;34m)\u001b[0m\u001b[0;34m\u001b[0m\u001b[0m\n",
      "\u001b[0;31mNameError\u001b[0m: name 'f_bilinear' is not defined"
     ]
    }
   ],
   "source": [
    "# Solution 1 \n",
    "# Using the linear_interp()\n",
    "\n",
    "# defining the corners\n",
    "x = np.asarray([0,1],dtype=float)\n",
    "y = np.asarray([0,1],dtype=float)\n",
    "f = np.asarray([[0,0,0],[1,0,0],[0,0,1],[1,1,0]],dtype=float)\n",
    "\n",
    "# Use the linear_interp() function here to implement a bilinear interpolation\n",
    "    \n",
    "a_bilinear = Image.fromarray(f_bilinear.astype('uint8'), 'RGB')\n",
    "a_bilinear.show()"
   ]
  },
  {
   "cell_type": "code",
   "execution_count": 7,
   "metadata": {},
   "outputs": [],
   "source": [
    "# Solution 2 \n",
    "# Using the bilinear_formula()\n",
    "\n",
    "def bilinear_interp(n,m,x,y,f):\n",
    "    tx = np.linspace(x[0],x[1],n)\n",
    "    ty = np.linspace(y[0],y[1],m)\n",
    "    \n",
    "    F = np.asarray([[f[0],f[2]],[f[1],f[3]]])\n",
    "    def bilinear_formula(i,j):\n",
    "        # implement the formula given in the lecture slides here\n",
    "    \n",
    "    # return an array of shape n x n x 3\n",
    "\n",
    "# defining the corners\n",
    "x = np.asarray([0,1],dtype=float)\n",
    "y = np.asarray([0,1],dtype=float)\n",
    "f = np.asarray([[0,0,0],[1,0,0],[0,0,1],[1,1,0]],dtype=float)\n",
    "\n",
    "f2_bilinear = bilinear_interp(n,n,x,y,f)*255\n",
    "a2_bilinear = Image.fromarray(f2_bilinear.astype('uint8'), 'RGB')\n",
    "a2_bilinear.show()"
   ]
  },
  {
   "cell_type": "markdown",
   "metadata": {},
   "source": [
    "### Why are the colors rotated in the two previous solutions?"
   ]
  },
  {
   "cell_type": "markdown",
   "metadata": {},
   "source": [
    "----\n",
    "## Baricentric coordinates"
   ]
  },
  {
   "cell_type": "markdown",
   "metadata": {},
   "source": [
    "Suppose the square in the previous exercise is split in two triangles $[x_1,y_1],[x_2,y_1],[x_2,y_2]$ and $[x_2,y_2],[x_1,y_2],[x_1,y_1]$. Compute the baricentric interpolation within each triangle and generate an image."
   ]
  },
  {
   "cell_type": "code",
   "execution_count": null,
   "metadata": {},
   "outputs": [],
   "source": [
    "# this one is a bit tricky"
   ]
  }
 ],
 "metadata": {
  "kernelspec": {
   "display_name": "Python 3",
   "language": "python",
   "name": "python3"
  },
  "language_info": {
   "codemirror_mode": {
    "name": "ipython",
    "version": 3
   },
   "file_extension": ".py",
   "mimetype": "text/x-python",
   "name": "python",
   "nbconvert_exporter": "python",
   "pygments_lexer": "ipython3",
   "version": "3.5.4"
  }
 },
 "nbformat": 4,
 "nbformat_minor": 2
}
