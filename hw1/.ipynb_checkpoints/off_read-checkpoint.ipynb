{
 "cells": [
  {
   "cell_type": "code",
   "execution_count": 2,
   "metadata": {},
   "outputs": [],
   "source": [
    "import sys\n",
    "import numpy as np"
   ]
  },
  {
   "cell_type": "code",
   "execution_count": 3,
   "metadata": {},
   "outputs": [],
   "source": [
    "def read_off(filename):\n",
    "    with open(filename) as fn:\n",
    "        line = fn.readline()\n",
    "        if (''.join(line.split()) != 'OFF'):\n",
    "            print(filename + ' is not an OFF file')\n",
    "            sys.exit(0)\n",
    "        \n",
    "        line = fn.readline()\n",
    "        nvfe = np.asarray(line.split(),dtype=int)\n",
    "        vertices = np.zeros((nvfe[0],3))\n",
    "        triangles = np.zeros((nvfe[1],3),dtype=int)\n",
    "        for i in range(nvfe[0]):\n",
    "            line = fn.readline()\n",
    "            vertices[i] = np.asarray(line.split(),dtype=float)\n",
    "            \n",
    "        for i in range(nvfe[1]):\n",
    "            line = fn.readline()\n",
    "            triangles[i] = np.asarray(line.split(),dtype=int)[1:]\n",
    "            \n",
    "        return(vertices,triangles)"
   ]
  },
  {
   "cell_type": "code",
   "execution_count": 4,
   "metadata": {},
   "outputs": [],
   "source": [
    "lv,lt = read_off('socket.off')"
   ]
  },
  {
   "cell_type": "code",
   "execution_count": 5,
   "metadata": {},
   "outputs": [
    {
     "name": "stdout",
     "output_type": "stream",
     "text": [
      "[[  6 398   7]\n",
      " [  6 400 398]\n",
      " [  6   5 400]\n",
      " [400   5 402]\n",
      " [403 402 405]\n",
      " [ 11 405  12]\n",
      " [ 11 403 405]\n",
      " [ 11  10 403]\n",
      " [403  10 401]\n",
      " [400 401 398]]\n"
     ]
    }
   ],
   "source": [
    "print(lt[:10])"
   ]
  },
  {
   "cell_type": "code",
   "execution_count": 6,
   "metadata": {},
   "outputs": [
    {
     "name": "stdout",
     "output_type": "stream",
     "text": [
      "[[-82.071068   7.071068  25.      ]\n",
      " [-75.        10.        25.      ]\n",
      " [-67.928932   7.071068  25.      ]\n",
      " [-65.         0.        25.      ]\n",
      " [-67.928932  -7.071068  25.      ]\n",
      " [-75.       -10.        25.      ]\n",
      " [-82.071068  -7.071068  25.      ]\n",
      " [-85.         0.        25.      ]\n",
      " [-82.071068  -7.071068 -25.      ]\n",
      " [-75.       -10.       -25.      ]]\n"
     ]
    }
   ],
   "source": [
    "print(lv[:10])"
   ]
  },
  {
   "cell_type": "code",
   "execution_count": null,
   "metadata": {},
   "outputs": [],
   "source": []
  }
 ],
 "metadata": {
  "kernelspec": {
   "display_name": "Python 3",
   "language": "python",
   "name": "python3"
  },
  "language_info": {
   "codemirror_mode": {
    "name": "ipython",
    "version": 3
   },
   "file_extension": ".py",
   "mimetype": "text/x-python",
   "name": "python",
   "nbconvert_exporter": "python",
   "pygments_lexer": "ipython3",
   "version": "3.5.4"
  }
 },
 "nbformat": 4,
 "nbformat_minor": 2
}
