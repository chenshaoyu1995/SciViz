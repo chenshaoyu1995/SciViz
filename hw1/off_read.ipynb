{
 "cells": [
  {
   "cell_type": "code",
   "execution_count": 78,
   "metadata": {},
   "outputs": [],
   "source": [
    "import sys\n",
    "import numpy as np"
   ]
  },
  {
   "cell_type": "code",
   "execution_count": 79,
   "metadata": {},
   "outputs": [],
   "source": [
    "def read_off(filename):\n",
    "    with open(filename) as fn:\n",
    "        line = fn.readline()\n",
    "        if (''.join(line.split()) != 'OFF'):\n",
    "            print(filename + ' is not an OFF file')\n",
    "            sys.exit(0)\n",
    "        \n",
    "        line = fn.readline()\n",
    "        nvfe = np.asarray(line.split(),dtype=int)\n",
    "        vertices = np.zeros((nvfe[0],3))\n",
    "        triangles = np.zeros((nvfe[1],3),dtype=int)\n",
    "        for i in range(nvfe[0]):\n",
    "            line = fn.readline()\n",
    "            vertices[i] = np.asarray(line.split(),dtype=float)\n",
    "            \n",
    "        for i in range(nvfe[1]):\n",
    "            line = fn.readline()\n",
    "            triangles[i] = np.asarray(line.split(),dtype=int)[1:]\n",
    "            \n",
    "        return(vertices,triangles)"
   ]
  },
  {
   "cell_type": "code",
   "execution_count": 80,
   "metadata": {},
   "outputs": [],
   "source": [
    "lv,lt = read_off('socket.off')"
   ]
  },
  {
   "cell_type": "code",
   "execution_count": 81,
   "metadata": {},
   "outputs": [
    {
     "name": "stdout",
     "output_type": "stream",
     "text": [
      "[[  6 398   7]\n",
      " [  6 400 398]\n",
      " [  6   5 400]\n",
      " [400   5 402]\n",
      " [403 402 405]\n",
      " [ 11 405  12]\n",
      " [ 11 403 405]\n",
      " [ 11  10 403]\n",
      " [403  10 401]\n",
      " [400 401 398]]\n"
     ]
    }
   ],
   "source": [
    "print(lt[:10])"
   ]
  },
  {
   "cell_type": "code",
   "execution_count": 82,
   "metadata": {},
   "outputs": [
    {
     "name": "stdout",
     "output_type": "stream",
     "text": [
      "[[-82.071068   7.071068  25.      ]\n",
      " [-75.        10.        25.      ]\n",
      " [-67.928932   7.071068  25.      ]\n",
      " [-65.         0.        25.      ]\n",
      " [-67.928932  -7.071068  25.      ]\n",
      " [-75.       -10.        25.      ]\n",
      " [-82.071068  -7.071068  25.      ]\n",
      " [-85.         0.        25.      ]\n",
      " [-82.071068  -7.071068 -25.      ]\n",
      " [-75.       -10.       -25.      ]]\n"
     ]
    }
   ],
   "source": [
    "print(lv[:10])"
   ]
  },
  {
   "cell_type": "code",
   "execution_count": 83,
   "metadata": {},
   "outputs": [],
   "source": [
    "def normal(p1,p2,p3):\n",
    "    U = p2-p1\n",
    "    V = p3-p1\n",
    "    N = np.array([U[1]*V[2] - U[2]*V[1], U[2]*V[0] - U[0]*V[2], U[0]*V[1] - U[1]*V[0]])\n",
    "    if N[2]<0:\n",
    "        return -N\n",
    "    else:\n",
    "        return N\n",
    "\n",
    "# True if p2 is counterclockwise from p1\n",
    "def ccw(p1,p2,p3):\n",
    "    return normal(p1,p2,p3).dot(np.cross(p1-p3,p2-p3))>=0\n",
    "\n",
    "vertex_to_corner = [set() for i in range(len(lv))]\n",
    "vertex_to_tri = [set() for i in range(len(lv))]\n",
    "corner_table = [[None]*5 for i in range(len(lt)*3)]    "
   ]
  },
  {
   "cell_type": "code",
   "execution_count": 84,
   "metadata": {},
   "outputs": [],
   "source": [
    "def cn(idx):\n",
    "    return corner_table[idx][2]\n",
    "def cp(idx):\n",
    "    return corner_table[idx][3]\n",
    "def co(idx):\n",
    "    return corner_table[idx][4]\n",
    "def cv(idx):\n",
    "    return corner_table[idx][0]\n",
    "def ct(idx):\n",
    "    return corner_table[idx][1]\n",
    "\n",
    "# here assumes v1,v2,v3 are in ccw order\n",
    "\n",
    "def update_opposite(v1,v2,v3,v1cidx):\n",
    "    v1o = vertex_to_tri[v2]&vertex_to_tri[v3]\n",
    "    if v1o:\n",
    "        o_tri_idx = v1o.pop()\n",
    "        o_c_idx = [o_tri_idx*3,o_tri_idx*3+1,o_tri_idx*3+2]\n",
    "        o_corner_idx = None\n",
    "        for c in o_c_idx:\n",
    "            v = cv(c)\n",
    "            if v in vertex_to_corner[v2] or c in vertex_to_corner[v3]:\n",
    "                pass\n",
    "            else:\n",
    "                o_corner_idx = c\n",
    "        \n",
    "        corner_table[v1cidx][4] = o_corner_idx\n",
    "        corner_table[o_corner_idx][4] = v1cidx\n",
    "    \n",
    "def insert_triangle(v1,v2,v3,idx):\n",
    "    corner_table[idx*3] = [v1,idx,idx*3+1,idx*3+2,None]\n",
    "    corner_table[idx*3+1] = [v2,idx,idx*3+2,idx*3,None]\n",
    "    corner_table[idx*3+2] = [v3,idx,idx*3,idx*3+1,None]\n",
    "    \n",
    "    vertex_to_corner[v1].add(idx*3)\n",
    "    vertex_to_corner[v2].add(idx*3+1)\n",
    "    vertex_to_corner[v3].add(idx*3+2)\n",
    "    \n",
    "    update_opposite(v1,v2,v3,idx*3)\n",
    "    update_opposite(v2,v3,v1,idx*3+1)\n",
    "    update_opposite(v3,v1,v2,idx*3+2)\n",
    "    \n",
    "    vertex_to_tri[v1].add(idx)\n",
    "    vertex_to_tri[v2].add(idx)\n",
    "    vertex_to_tri[v3].add(idx)\n",
    "    \n",
    "for tidx, t in enumerate(lt):\n",
    "    p1 = lv[t[0]]\n",
    "    p2 = lv[t[1]]\n",
    "    p3 = lv[t[2]]\n",
    "    if ccw(p1,p2,p3):\n",
    "        insert_triangle(t[0],t[1],t[2],tidx)\n",
    "    else:\n",
    "        insert_triangle(t[0],t[2],t[1],tidx)"
   ]
  },
  {
   "cell_type": "code",
   "execution_count": 87,
   "metadata": {},
   "outputs": [
    {
     "name": "stdout",
     "output_type": "stream",
     "text": [
      "The coordinates of the vertices linked to the vertex with index 3:\n",
      "[[-50.        -9.622504  25.      ]\n",
      " [-67.928932   7.071068  25.      ]\n",
      " [-67.928932  -7.071068  25.      ]\n",
      " [-65.         0.         8.333333]\n",
      " [-67.928932   7.071068   8.333333]\n",
      " [-50.         9.622504  25.      ]]\n",
      "The coordinates of the vertices making up the face (triangle) with index 3:\n",
      "[[-75.       -10.         8.333333]\n",
      " [-75.       -10.        25.      ]\n",
      " [-67.928932  -7.071068   8.333333]]\n",
      "The coordinates of the vertices of the triangles sharing an edge with the triangle with index 3:\n",
      "[[-75.       -10.         8.333333]\n",
      " [-67.928932  -7.071068   8.333333]\n",
      " [-67.928932  -7.071068  -8.333333]]\n",
      "[[-75.       -10.        25.      ]\n",
      " [-67.928932  -7.071068  25.      ]\n",
      " [-67.928932  -7.071068   8.333333]]\n"
     ]
    }
   ],
   "source": [
    "def find_adjacent_vertice(vidx):\n",
    "    result = set()\n",
    "    for i in vertex_to_corner[vidx]:\n",
    "        result.add(cv(cn(i)))\n",
    "        result.add(cv(cp(i)))\n",
    "    return result\n",
    "\n",
    "def find_vertice_of_tri(tidx):\n",
    "    return [corner_table[tidx*3][0],corner_table[tidx*3+1][0],corner_table[tidx*3+2][0]]\n",
    "\n",
    "def find_tri_shard_vertice(tidx):\n",
    "    result = []\n",
    "    for i in range(3*tidx,3*tidx+3):\n",
    "        if co(i):\n",
    "            ocidx = co(i)\n",
    "            result.append(ct(ocidx))\n",
    "    return result\n",
    "print('The coordinates of the vertices linked to the vertex with index 3:')\n",
    "print(np.array(list(map(lambda x: lv[x],find_adjacent_vertice(3)))))\n",
    "print('The coordinates of the vertices making up the face (triangle) with index 3:')\n",
    "print(np.array(list(map(lambda x: lv[x],find_vertice_of_tri(3)))))\n",
    "print('The coordinates of the vertices of the triangles sharing an edge with the triangle with index 3:')\n",
    "for i in find_tri_shard_vertice(3):\n",
    "    print(np.array(list(map(lambda x: lv[x],lt[i]))))"
   ]
  }
 ],
 "metadata": {
  "kernelspec": {
   "display_name": "Python 3",
   "language": "python",
   "name": "python3"
  },
  "language_info": {
   "codemirror_mode": {
    "name": "ipython",
    "version": 3
   },
   "file_extension": ".py",
   "mimetype": "text/x-python",
   "name": "python",
   "nbconvert_exporter": "python",
   "pygments_lexer": "ipython3",
   "version": "3.5.4"
  }
 },
 "nbformat": 4,
 "nbformat_minor": 2
}
