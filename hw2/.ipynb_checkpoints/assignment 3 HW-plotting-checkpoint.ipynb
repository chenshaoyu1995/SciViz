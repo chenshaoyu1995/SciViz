{
 "cells": [
  {
   "cell_type": "markdown",
   "metadata": {},
   "source": [
    "# Plotting Assignment"
   ]
  },
  {
   "cell_type": "markdown",
   "metadata": {},
   "source": [
    "The goal of this assingment is to explore different binning strategies. In particularly, you will be trying out the following two techniques:\n",
    "\n",
    "1) Scott's approach: https://www.dropbox.com/s/bmwilffmnbg944q/Histogram%20Bin%20Size.pdf?dl=0, for complete details see: https://www.dropbox.com/s/b2ysvul9dvcwrlb/histo-bin-size-scott.pdf?dl=0 \n",
    "\n",
    "2) Hogg's approach:  https://www.dropbox.com/s/qzufwakwubb0nsm/0807.4820.pdf?dl=0"
   ]
  },
  {
   "cell_type": "code",
   "execution_count": 1,
   "metadata": {},
   "outputs": [],
   "source": [
    "import numpy as np\n",
    "import pandas as pd\n",
    "import matplotlib.pyplot as plt\n",
    "%matplotlib inline"
   ]
  },
  {
   "cell_type": "code",
   "execution_count": 2,
   "metadata": {},
   "outputs": [
    {
     "name": "stdout",
     "output_type": "stream",
     "text": [
      "(10000,)\n"
     ]
    }
   ],
   "source": [
    "n, p = 100, .5\n",
    "s1 = np.random.binomial(n, p, 10000)\n",
    "n, p = 100, .3\n",
    "s2 = np.random.binomial(n, p, 30000)\n",
    "data=np.append(s1,s2)"
   ]
  },
  {
   "cell_type": "code",
   "execution_count": 59,
   "metadata": {},
   "outputs": [
    {
     "data": {
      "text/plain": [
       "(array([  135.,  3186., 10473., 12694.,  3416.,  2506.,  4601.,  2358.,\n",
       "          595.,    36.]),\n",
       " array([13. , 18.6, 24.2, 29.8, 35.4, 41. , 46.6, 52.2, 57.8, 63.4, 69. ]),\n",
       " <a list of 10 Patch objects>)"
      ]
     },
     "execution_count": 59,
     "metadata": {},
     "output_type": "execute_result"
    },
    {
     "data": {
      "image/png": "[encoded data removed]",
      "text/plain": [
       "<matplotlib.figure.Figure at 0x10d413160>"
      ]
     },
     "metadata": {},
     "output_type": "display_data"
    }
   ],
   "source": [
    "plt.hist(data)"
   ]
  },
  {
   "cell_type": "code",
   "execution_count": 60,
   "metadata": {},
   "outputs": [
    {
     "data": {
      "text/plain": [
       "(array([2.000e+00, 4.000e+00, 1.000e+01, 1.800e+01, 3.500e+01, 6.600e+01,\n",
       "        1.420e+02, 2.020e+02, 4.010e+02, 5.300e+02, 8.080e+02, 1.103e+03,\n",
       "        1.490e+03, 1.860e+03, 2.231e+03, 2.355e+03, 2.537e+03, 2.633e+03,\n",
       "        2.475e+03, 2.362e+03, 2.116e+03, 1.659e+03, 1.449e+03, 1.123e+03,\n",
       "        8.560e+02, 5.790e+02, 4.940e+02, 3.640e+02, 3.080e+02, 3.110e+02,\n",
       "        3.700e+02, 4.050e+02, 5.200e+02, 5.920e+02, 6.680e+02, 7.540e+02,\n",
       "        7.630e+02, 8.260e+02, 8.190e+02, 7.710e+02, 6.670e+02, 5.610e+02,\n",
       "        4.690e+02, 4.110e+02, 2.500e+02, 2.130e+02, 1.420e+02, 1.090e+02,\n",
       "        7.300e+01, 2.800e+01, 3.000e+01, 1.800e+01, 9.000e+00, 4.000e+00,\n",
       "        2.000e+00, 3.000e+00]),\n",
       " array([13, 14, 15, 16, 17, 18, 19, 20, 21, 22, 23, 24, 25, 26, 27, 28, 29,\n",
       "        30, 31, 32, 33, 34, 35, 36, 37, 38, 39, 40, 41, 42, 43, 44, 45, 46,\n",
       "        47, 48, 49, 50, 51, 52, 53, 54, 55, 56, 57, 58, 59, 60, 61, 62, 63,\n",
       "        64, 65, 66, 67, 68, 69]),\n",
       " <a list of 56 Patch objects>)"
      ]
     },
     "execution_count": 60,
     "metadata": {},
     "output_type": "execute_result"
    },
    {
     "data": {
      "image/png": "[encoded data removed]",
      "text/plain": [
       "<matplotlib.figure.Figure at 0x10d55a080>"
      ]
     },
     "metadata": {},
     "output_type": "display_data"
    }
   ],
   "source": [
    "binwidth=1\n",
    "plt.hist(data, bins=range(min(data), max(data)+binwidth, binwidth))"
   ]
  },
  {
   "cell_type": "code",
   "execution_count": 61,
   "metadata": {},
   "outputs": [
    {
     "data": {
      "text/plain": [
       "(array([ 1410., 19854.,  9259.,  6488.,  2923.,    66.]),\n",
       " array([13, 23, 33, 43, 53, 63, 73]),\n",
       " <a list of 6 Patch objects>)"
      ]
     },
     "execution_count": 61,
     "metadata": {},
     "output_type": "execute_result"
    },
    {
     "data": {
      "image/png": "[encoded data removed]",
      "text/plain": [
       "<matplotlib.figure.Figure at 0x10d8972e8>"
      ]
     },
     "metadata": {},
     "output_type": "display_data"
    }
   ],
   "source": [
    "binwidth=10\n",
    "plt.hist(data, bins=range(min(data), max(data)+binwidth, binwidth))"
   ]
  },
  {
   "cell_type": "markdown",
   "metadata": {},
   "source": [
    "## Task 1: Generate histograms such as the ones above using Scott's approach."
   ]
  },
  {
   "cell_type": "code",
   "execution_count": null,
   "metadata": {},
   "outputs": [],
   "source": [
    "st"
   ]
  },
  {
   "cell_type": "markdown",
   "metadata": {},
   "source": [
    "----"
   ]
  },
  {
   "cell_type": "markdown",
   "metadata": {},
   "source": [
    "## Task 2: Generate histograms such as the ones above using Hogg's approach. Essentially, you should implement the procedure used for the 1D example in Section 4 of the manuscript."
   ]
  }
 ],
 "metadata": {
  "kernelspec": {
   "display_name": "Python 3",
   "language": "python",
   "name": "python3"
  },
  "language_info": {
   "codemirror_mode": {
    "name": "ipython",
    "version": 3
   },
   "file_extension": ".py",
   "mimetype": "text/x-python",
   "name": "python",
   "nbconvert_exporter": "python",
   "pygments_lexer": "ipython3",
   "version": "3.5.4"
  }
 },
 "nbformat": 4,
 "nbformat_minor": 2
}
