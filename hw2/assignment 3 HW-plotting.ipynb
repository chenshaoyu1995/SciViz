{
 "cells": [
  {
   "cell_type": "markdown",
   "metadata": {},
   "source": [
    "# Plotting Assignment"
   ]
  },
  {
   "cell_type": "markdown",
   "metadata": {},
   "source": [
    "The goal of this assingment is to explore different binning strategies. In particularly, you will be trying out the following two techniques:\n",
    "\n",
    "1) Scott's approach: https://www.dropbox.com/s/bmwilffmnbg944q/Histogram%20Bin%20Size.pdf?dl=0, for complete details see: https://www.dropbox.com/s/b2ysvul9dvcwrlb/histo-bin-size-scott.pdf?dl=0 \n",
    "\n",
    "2) Hogg's approach:  https://www.dropbox.com/s/qzufwakwubb0nsm/0807.4820.pdf?dl=0"
   ]
  },
  {
   "cell_type": "code",
   "execution_count": 2,
   "metadata": {},
   "outputs": [],
   "source": [
    "import numpy as np\n",
    "import pandas as pd\n",
    "import matplotlib.pyplot as plt\n",
    "%matplotlib inline"
   ]
  },
  {
   "cell_type": "code",
   "execution_count": 3,
   "metadata": {},
   "outputs": [],
   "source": [
    "n, p = 100, .5\n",
    "s1 = np.random.binomial(n, p, 10000)\n",
    "n, p = 100, .3\n",
    "s2 = np.random.binomial(n, p, 30000)\n",
    "data=np.append(s1,s2)"
   ]
  },
  {
   "cell_type": "code",
   "execution_count": 4,
   "metadata": {},
   "outputs": [
    {
     "data": {
      "text/plain": [
       "(array([   138.,   2092.,  11559.,  11276.,   4862.,   1926.,   4374.,\n",
       "          2801.,    905.,     67.]),\n",
       " array([ 13. ,  18.5,  24. ,  29.5,  35. ,  40.5,  46. ,  51.5,  57. ,\n",
       "         62.5,  68. ]),\n",
       " <a list of 10 Patch objects>)"
      ]
     },
     "execution_count": 4,
     "metadata": {},
     "output_type": "execute_result"
    },
    {
     "data": {
      "image/png": "[encoded data removed]",
      "text/plain": [
       "<matplotlib.figure.Figure at 0x24e31ff3dd8>"
      ]
     },
     "metadata": {},
     "output_type": "display_data"
    }
   ],
   "source": [
    "plt.hist(data)"
   ]
  },
  {
   "cell_type": "code",
   "execution_count": 5,
   "metadata": {},
   "outputs": [
    {
     "data": {
      "text/plain": [
       "(array([  2.00000000e+00,   5.00000000e+00,   1.30000000e+01,\n",
       "          2.00000000e+01,   4.60000000e+01,   5.20000000e+01,\n",
       "          1.29000000e+02,   2.12000000e+02,   3.71000000e+02,\n",
       "          5.45000000e+02,   8.35000000e+02,   1.15000000e+03,\n",
       "          1.48200000e+03,   1.83500000e+03,   2.16300000e+03,\n",
       "          2.39700000e+03,   2.53200000e+03,   2.59900000e+03,\n",
       "          2.54100000e+03,   2.34700000e+03,   2.07900000e+03,\n",
       "          1.71000000e+03,   1.41600000e+03,   1.09100000e+03,\n",
       "          8.76000000e+02,   6.22000000e+02,   4.90000000e+02,\n",
       "          3.67000000e+02,   3.27000000e+02,   2.90000000e+02,\n",
       "          3.68000000e+02,   4.42000000e+02,   4.99000000e+02,\n",
       "          5.78000000e+02,   6.11000000e+02,   7.92000000e+02,\n",
       "          8.31000000e+02,   7.61000000e+02,   8.01000000e+02,\n",
       "          6.99000000e+02,   7.04000000e+02,   5.66000000e+02,\n",
       "          4.56000000e+02,   3.76000000e+02,   3.08000000e+02,\n",
       "          2.41000000e+02,   1.41000000e+02,   9.50000000e+01,\n",
       "          7.60000000e+01,   4.40000000e+01,   3.30000000e+01,\n",
       "          1.50000000e+01,   1.00000000e+01,   4.00000000e+00,\n",
       "          5.00000000e+00]),\n",
       " array([13, 14, 15, 16, 17, 18, 19, 20, 21, 22, 23, 24, 25, 26, 27, 28, 29,\n",
       "        30, 31, 32, 33, 34, 35, 36, 37, 38, 39, 40, 41, 42, 43, 44, 45, 46,\n",
       "        47, 48, 49, 50, 51, 52, 53, 54, 55, 56, 57, 58, 59, 60, 61, 62, 63,\n",
       "        64, 65, 66, 67, 68]),\n",
       " <a list of 55 Patch objects>)"
      ]
     },
     "execution_count": 5,
     "metadata": {},
     "output_type": "execute_result"
    },
    {
     "data": {
      "image/png": "[encoded data removed]",
      "text/plain": [
       "<matplotlib.figure.Figure at 0x24e3209c208>"
      ]
     },
     "metadata": {},
     "output_type": "display_data"
    }
   ],
   "source": [
    "binwidth=1\n",
    "plt.hist(data, bins=range(min(data), max(data)+binwidth, binwidth))"
   ]
  },
  {
   "cell_type": "code",
   "execution_count": 6,
   "metadata": {},
   "outputs": [
    {
     "data": {
      "text/plain": [
       "(array([  1395.,  19881.,   9268.,   6382.,   3007.,     67.]),\n",
       " array([13, 23, 33, 43, 53, 63, 73]),\n",
       " <a list of 6 Patch objects>)"
      ]
     },
     "execution_count": 6,
     "metadata": {},
     "output_type": "execute_result"
    },
    {
     "data": {
      "image/png": "[encoded data removed]",
      "text/plain": [
       "<matplotlib.figure.Figure at 0x24e2fd730b8>"
      ]
     },
     "metadata": {},
     "output_type": "display_data"
    }
   ],
   "source": [
    "binwidth=10\n",
    "plt.hist(data, bins=range(min(data), max(data)+binwidth, binwidth))"
   ]
  },
  {
   "cell_type": "markdown",
   "metadata": {},
   "source": [
    "## Task 1: Generate histograms such as the ones above using Scott's approach."
   ]
  },
  {
   "cell_type": "code",
   "execution_count": 14,
   "metadata": {},
   "outputs": [
    {
     "data": {
      "text/plain": [
       "(array([  7.00000000e+00,   1.30000000e+01,   2.00000000e+01,\n",
       "          4.60000000e+01,   5.20000000e+01,   1.29000000e+02,\n",
       "          2.12000000e+02,   3.71000000e+02,   5.45000000e+02,\n",
       "          8.35000000e+02,   1.15000000e+03,   1.48200000e+03,\n",
       "          1.83500000e+03,   2.16300000e+03,   2.39700000e+03,\n",
       "          2.53200000e+03,   2.59900000e+03,   2.54100000e+03,\n",
       "          2.34700000e+03,   2.07900000e+03,   1.71000000e+03,\n",
       "          1.41600000e+03,   1.09100000e+03,   8.76000000e+02,\n",
       "          6.22000000e+02,   4.90000000e+02,   3.67000000e+02,\n",
       "          3.27000000e+02,   2.90000000e+02,   3.68000000e+02,\n",
       "          4.42000000e+02,   4.99000000e+02,   5.78000000e+02,\n",
       "          6.11000000e+02,   7.92000000e+02,   8.31000000e+02,\n",
       "          7.61000000e+02,   8.01000000e+02,   6.99000000e+02,\n",
       "          7.04000000e+02,   5.66000000e+02,   4.56000000e+02,\n",
       "          3.76000000e+02,   3.08000000e+02,   2.41000000e+02,\n",
       "          1.41000000e+02,   9.50000000e+01,   7.60000000e+01,\n",
       "          4.40000000e+01,   3.30000000e+01,   1.50000000e+01,\n",
       "          1.00000000e+01,   4.00000000e+00,   2.00000000e+00,\n",
       "          3.00000000e+00]),\n",
       " array([ 13.        ,  14.00303303,  15.00606606,  16.00909909,\n",
       "         17.01213212,  18.01516515,  19.01819818,  20.02123121,\n",
       "         21.02426424,  22.02729727,  23.0303303 ,  24.03336333,\n",
       "         25.03639636,  26.03942939,  27.04246242,  28.04549545,\n",
       "         29.04852848,  30.05156151,  31.05459454,  32.05762757,\n",
       "         33.0606606 ,  34.06369363,  35.06672666,  36.06975969,\n",
       "         37.07279272,  38.07582575,  39.07885878,  40.08189181,\n",
       "         41.08492484,  42.08795787,  43.0909909 ,  44.09402393,\n",
       "         45.09705696,  46.10008999,  47.10312302,  48.10615605,\n",
       "         49.10918908,  50.11222211,  51.11525515,  52.11828818,\n",
       "         53.12132121,  54.12435424,  55.12738727,  56.1304203 ,\n",
       "         57.13345333,  58.13648636,  59.13951939,  60.14255242,\n",
       "         61.14558545,  62.14861848,  63.15165151,  64.15468454,\n",
       "         65.15771757,  66.1607506 ,  67.16378363,  68.16681666]),\n",
       " <a list of 55 Patch objects>)"
      ]
     },
     "execution_count": 14,
     "metadata": {},
     "output_type": "execute_result"
    },
    {
     "data": {
      "image/png": "[encoded data removed]",
      "text/plain": [
       "<matplotlib.figure.Figure at 0x24e34d8e9e8>"
      ]
     },
     "metadata": {},
     "output_type": "display_data"
    }
   ],
   "source": [
    "std = np.std(data)\n",
    "binwidth = 3.49*std*data.size**(-1/3)\n",
    "plt.hist(data, bins=np.arange(min(data), max(data) + binwidth, binwidth))"
   ]
  },
  {
   "cell_type": "markdown",
   "metadata": {},
   "source": [
    "----"
   ]
  },
  {
   "cell_type": "markdown",
   "metadata": {},
   "source": [
    "## Task 2: Generate histograms such as the ones above using Hogg's approach. Essentially, you should implement the procedure used for the 1D example in Section 4 of the manuscript."
   ]
  },
  {
   "cell_type": "code",
   "execution_count": 19,
   "metadata": {},
   "outputs": [
    {
     "name": "stdout",
     "output_type": "stream",
     "text": [
      "1.00303303013\n"
     ]
    }
   ],
   "source": []
  }
 ],
 "metadata": {
  "kernelspec": {
   "display_name": "Python 3",
   "language": "python",
   "name": "python3"
  },
  "language_info": {
   "codemirror_mode": {
    "name": "ipython",
    "version": 3
   },
   "file_extension": ".py",
   "mimetype": "text/x-python",
   "name": "python",
   "nbconvert_exporter": "python",
   "pygments_lexer": "ipython3",
   "version": "3.5.4"
  }
 },
 "nbformat": 4,
 "nbformat_minor": 2
}
